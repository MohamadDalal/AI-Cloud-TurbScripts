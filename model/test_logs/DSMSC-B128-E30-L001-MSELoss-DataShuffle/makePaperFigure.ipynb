{
 "cells": [
  {
   "cell_type": "code",
   "execution_count": 1,
   "metadata": {},
   "outputs": [],
   "source": [
    "import numpy as np\n",
    "import pandas as pd\n",
    "import matplotlib.pyplot as plt"
   ]
  },
  {
   "cell_type": "code",
   "execution_count": 3,
   "metadata": {},
   "outputs": [],
   "source": [
    "mse = pd.read_csv(\"test_MSE.csv\")\n",
    "psnr = pd.read_csv(\"test_PSNR.csv\")"
   ]
  },
  {
   "cell_type": "code",
   "execution_count": 4,
   "metadata": {},
   "outputs": [
    {
     "name": "stdout",
     "output_type": "stream",
     "text": [
      "Max MSE:\n",
      "0    T1133-X29-S32-A06.npy\n",
      "1                 0.002165\n",
      "Name: 16, dtype: object\n",
      "Min MSE:\n",
      "0    T1169-X926-S32-A00.npy\n",
      "1                  0.001836\n",
      "Name: 20, dtype: object\n",
      "Closest to average MSE:\n"
     ]
    },
    {
     "data": {
      "text/plain": [
       "0    T692-X1290-S32-A00.npy\n",
       "1                  0.001975\n",
       "Name: 910, dtype: object"
      ]
     },
     "execution_count": 4,
     "metadata": {},
     "output_type": "execute_result"
    }
   ],
   "source": [
    "print(\"Max MSE:\")\n",
    "print(mse.iloc[mse.iloc[:,1].idxmax()])\n",
    "print(\"Min MSE:\")\n",
    "print(mse.iloc[mse.iloc[:,1].idxmin()])\n",
    "print(\"Closest to average MSE:\")\n",
    "mse_meaned = np.abs(mse.iloc[:,1] - mse.iloc[:,1].mean())\n",
    "mse.loc[mse_meaned.idxmin()]"
   ]
  },
  {
   "cell_type": "code",
   "execution_count": 5,
   "metadata": {},
   "outputs": [
    {
     "name": "stdout",
     "output_type": "stream",
     "text": [
      "0    T1133-X29-S32-A06.npy\n",
      "1                26.645997\n",
      "Name: 16, dtype: object\n",
      "0    T1169-X926-S32-A00.npy\n",
      "1                 27.361566\n",
      "Name: 20, dtype: object\n"
     ]
    }
   ],
   "source": [
    "print(psnr.iloc[psnr.iloc[:,1].idxmin()])\n",
    "print(psnr.iloc[psnr.iloc[:,1].idxmax()])"
   ]
  }
 ],
 "metadata": {
  "kernelspec": {
   "display_name": "Python 3",
   "language": "python",
   "name": "python3"
  },
  "language_info": {
   "codemirror_mode": {
    "name": "ipython",
    "version": 3
   },
   "file_extension": ".py",
   "mimetype": "text/x-python",
   "name": "python",
   "nbconvert_exporter": "python",
   "pygments_lexer": "ipython3",
   "version": "3.11.6"
  }
 },
 "nbformat": 4,
 "nbformat_minor": 2
}
