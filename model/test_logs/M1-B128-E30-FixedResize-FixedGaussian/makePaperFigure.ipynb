{
 "cells": [
  {
   "cell_type": "code",
   "execution_count": 1,
   "metadata": {},
   "outputs": [],
   "source": [
    "import numpy as np\n",
    "import pandas as pd\n",
    "import matplotlib.pyplot as plt"
   ]
  },
  {
   "cell_type": "code",
   "execution_count": 2,
   "metadata": {},
   "outputs": [],
   "source": [
    "mse = pd.read_csv(\"test_mse.csv\")\n",
    "psnr = pd.read_csv(\"test_psnr.csv\")"
   ]
  },
  {
   "cell_type": "code",
   "execution_count": 3,
   "metadata": {},
   "outputs": [
    {
     "name": "stdout",
     "output_type": "stream",
     "text": [
      "0    T1439-X102-S32-A08.npy\n",
      "1                  0.005116\n",
      "Name: 118, dtype: object\n",
      "0    T3850-X1486-S32-A09.npy\n",
      "1                   0.002517\n",
      "Name: 809, dtype: object\n"
     ]
    }
   ],
   "source": [
    "print(\"Max MSE:\")\n",
    "print(mse.iloc[mse.iloc[:,1].idxmax()])\n",
    "print(\"Min MSE:\")\n",
    "print(mse.iloc[mse.iloc[:,1].idxmin()])\n",
    "print(\"Closest to average MSE:\")\n",
    "mse_meaned = np.abs(mse.iloc[:,1] - mse.iloc[:,1].mean())\n",
    "mse.loc[mse_meaned.idxmin()]"
   ]
  },
  {
   "cell_type": "code",
   "execution_count": 4,
   "metadata": {},
   "outputs": [
    {
     "name": "stdout",
     "output_type": "stream",
     "text": [
      "0    T1439-X102-S32-A08.npy\n",
      "1                 22.910388\n",
      "Name: 118, dtype: object\n",
      "0    T3850-X1486-S32-A09.npy\n",
      "1                  25.990805\n",
      "Name: 809, dtype: object\n"
     ]
    }
   ],
   "source": [
    "print(psnr.iloc[psnr.iloc[:,1].idxmin()])\n",
    "print(psnr.iloc[psnr.iloc[:,1].idxmax()])"
   ]
  }
 ],
 "metadata": {
  "kernelspec": {
   "display_name": "Python 3",
   "language": "python",
   "name": "python3"
  },
  "language_info": {
   "codemirror_mode": {
    "name": "ipython",
    "version": 3
   },
   "file_extension": ".py",
   "mimetype": "text/x-python",
   "name": "python",
   "nbconvert_exporter": "python",
   "pygments_lexer": "ipython3",
   "version": "3.11.6"
  }
 },
 "nbformat": 4,
 "nbformat_minor": 2
}
